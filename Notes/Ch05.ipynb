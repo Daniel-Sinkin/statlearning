{
 "cells": [
  {
   "cell_type": "markdown",
   "metadata": {},
   "source": [
    "Quiz\n",
    "* Explain why the distinction between the test error rate and the training error rate is important.\n",
    "* What are the two problems of validation that cross-validation addresses?\n",
    "\n",
    "Vocabulary\n",
    "* Cross-Validation\n",
    "* Bootstrap\n",
    "* model assessment\n",
    "* model selection\n",
    "* validation set (approach)\n",
    "* hold-out set\n",
    "* cross-validation\n",
    "* Leave-one-out-cross-validation (LOOCV)\n",
    "* $k$-fold cross-validation ($k$-fold CV)"
   ]
  },
  {
   "cell_type": "markdown",
   "metadata": {},
   "source": [
    "# Code"
   ]
  },
  {
   "cell_type": "markdown",
   "metadata": {},
   "source": [
    "How to compute the k-fold validation split for an array `x`."
   ]
  },
  {
   "cell_type": "code",
   "execution_count": 18,
   "metadata": {},
   "outputs": [
    {
     "data": {
      "text/plain": [
       "[array([85., 35., 82., 36., 14.,  5., 27., 86., 79., 69., 45., 38., 20.,\n",
       "        73., 40., 31., 84.,  1., 50., 41.], dtype=float32),\n",
       " array([81., 61., 37., 96., 98., 89., 66., 21., 64., 26., 19., 62., 16.,\n",
       "        34.,  9., 55., 49., 68., 88., 22.], dtype=float32),\n",
       " array([47.,  8., 65.,  6., 29., 77., 93.,  4., 44., 12., 80., 99., 17.,\n",
       "        94., 71.,  7., 67., 25., 58., 48.], dtype=float32),\n",
       " array([ 90.,  52.,  11.,  53.,  74.,  97.,  43.,  57.,  30.,  33.,  78.,\n",
       "         72.,  39.,  18.,  76.,  51.,  60.,  91.,  87., 100.],\n",
       "       dtype=float32),\n",
       " array([10., 92., 46., 56., 75., 42., 54., 24., 70., 13., 83., 23., 95.,\n",
       "        32., 63., 15.,  3., 59., 28.,  2.], dtype=float32)]"
      ]
     },
     "execution_count": 18,
     "metadata": {},
     "output_type": "execute_result"
    }
   ],
   "source": [
    "import numpy as np\n",
    "_rng = np.random.default_rng()\n",
    "x: np.ndarray[np.float32] = np.arange(100).astype(np.float32) + 1\n",
    "_rng.shuffle(x)\n",
    "\n",
    "k = 5\n",
    "k_fold: list[np.ndarray] = np.array_split(x, k)\n",
    "k_fold"
   ]
  }
 ],
 "metadata": {
  "kernelspec": {
   "display_name": ".venv",
   "language": "python",
   "name": "python3"
  },
  "language_info": {
   "codemirror_mode": {
    "name": "ipython",
    "version": 3
   },
   "file_extension": ".py",
   "mimetype": "text/x-python",
   "name": "python",
   "nbconvert_exporter": "python",
   "pygments_lexer": "ipython3",
   "version": "3.11.6"
  }
 },
 "nbformat": 4,
 "nbformat_minor": 2
}
