{
 "cells": [
  {
   "cell_type": "markdown",
   "metadata": {},
   "source": [
    "## Quiz\n",
    "* State mathematically what we mean when we say that there exists a linear relationship between two Random Variables.\n",
    "    * $Y \\approx \\beta_0 + \\beta_1 X$\n",
    "    * We say that we are (linearly) regressing $Y$ on(to) $X$.\n",
    "* If we have $Y \\approx \\beta_0 + \\beta_1 X$ then what do we call:\n",
    "    * $\\approx$ - Approximately modelled as\n",
    "    * $\\beta_0$ - intercept\n",
    "    * $\\beta_1$ - slope"
   ]
  },
  {
   "cell_type": "markdown",
   "metadata": {},
   "source": []
  }
 ],
 "metadata": {
  "kernelspec": {
   "display_name": ".venv",
   "language": "python",
   "name": "python3"
  },
  "language_info": {
   "name": "python",
   "version": "3.11.6"
  }
 },
 "nbformat": 4,
 "nbformat_minor": 2
}
