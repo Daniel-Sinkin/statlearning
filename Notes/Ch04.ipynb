{
 "cells": [
  {
   "cell_type": "markdown",
   "metadata": {},
   "source": [
    "## Learning Goals\n",
    "* Be able to explain the difference between Regression and Classification?\n",
    "* Explain each of the following\n",
    "    * logistic regression\n",
    "        * multinomial logistic regression\n",
    "    * linear discriminant analysis\n",
    "    * quadratic discriminant analysis\n",
    "    * naive Bayes\n",
    "    * K-nearest neighbors\n",
    "    * generalized linear models,\n",
    "    * Poisson Regression\n",
    "* Explain how logistic regression can be used as a jump-off point to\n",
    "    * generalized linear models,\n",
    "    * Poisson Regression\n",
    "* Explain the difference between quantitative and qualitative (categorical) variables\n",
    "* Explain what Classification is\n",
    "    * It's the predicting of qualitative variables for an observation\n",
    "* Explain how Classification is related to Regression\n",
    "    * Often we are interested in assigning probabilities of a given observation being part of a category and then make the decision based on that, in that sense we're doing regression\n",
    "* Explain the Bias-variance trade-off."
   ]
  },
  {
   "cell_type": "markdown",
   "metadata": {},
   "source": [
    "\n",
    "## Vocabulary\n",
    "* `logistic` regression and function\n",
    "* multinomial logistic regression\n",
    "* `odds`\n",
    "* `logit` / `log odds`\n",
    "* Categorical / Qualitative Variables\n",
    "* Quantitative Variables\n",
    "* Maximum likelihood\n",
    "* Likelihood Function\n",
    "* z-statistic\n",
    "* `softmax`\n",
    "* Bayes' Theorem\n",
    "* Bayes' Classifier\n",
    "* Bayes' Decision Boundary\n",
    "* Linear Discriminant Analysis\n",
    "* Overfitting\n",
    "* (Trivial) Null Classifier\n",
    "* Confusion Matrix\n",
    "* Sensitivity\n",
    "* Specificity\n",
    "* ROC Curve (receiver operating characteristics)\n",
    "* Naive Bayes classifier\n",
    "* Marginal Distribution\n",
    "* Joint Distribution\n",
    "* Bias-variance trade-off.\n",
    "* Generalized additive model in the context of Naive Bayes classifier\n",
    "* Cross Validation"
   ]
  },
  {
   "cell_type": "markdown",
   "metadata": {},
   "source": [
    "## Theorems and Equations\n",
    "### Likelihood Function\n",
    "$$\n",
    "L(\\beta_0, \\beta_1) = \\prod_{i:y_i=1} p(x_i) \\prod_{i':y_{i'}=0} (1 - p(x_{i'}))\n",
    "$$"
   ]
  },
  {
   "cell_type": "markdown",
   "metadata": {},
   "source": [
    "## Notes\n",
    "* The Reason why we use classification instead of regression with a numerical encoding of the predictors is, among other things, that it induces a type of ordering, even if it does not make sense for our data. In particular a different labeling would imply an entirely different type of relationship between the predictors and the response variable.\n",
    "* The only case where this works well is in the case of binary classification, i.e. where we have two different categories. It is easy to see that if we flip the categories we get the same underlying relationship between the predictors and the response variable.\n",
    "* Logistic Regression models the probability that a particulary piece of data is a member of a particular category.\n",
    "* The obvious problem with just doing a linear model is that there is no assurance that (and in fact it's not true in general) that our probabilities lie in $[0, 1]$.\n",
    "    * We can solve this problem by using the logistic function (which is where the name comes from)\n",
    "* QDA and Naive Bayes aren't special cases of each other because while naive bayes allows arbitrary functions $g_{kj}(x_j)$ it only allows for addition of those, but to cover QDA we'd need to introduce multiplication (because we have $x_ix_j$ terms)."
   ]
  }
 ],
 "metadata": {
  "language_info": {
   "name": "python"
  }
 },
 "nbformat": 4,
 "nbformat_minor": 2
}
