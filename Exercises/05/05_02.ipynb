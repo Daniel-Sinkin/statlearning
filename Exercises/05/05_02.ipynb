{
 "cells": [
  {
   "cell_type": "markdown",
   "metadata": {},
   "source": [
    "#### 2. We will now derive the probability that a given observation is part of a bootstrap sample. Suppose that we obtain a bootstrap sample from a set of $n$ observations.\n",
    "1. What is the probability that the first bootstrap observation is not the jth observation from the original sample? Justify your answer.\n",
    "2. What is the probability that the second bootstrap observation is not the jth observation from the original sample?\n",
    "3. Argue that the probability that the jth observation is not in the bootstrap sample is $(1 − 1/n)^n$.\n",
    "4. When $n = 5$, what is the probability that the jth observation is in the bootstrap sample?\n",
    "5. When $n = 100$, what is the probability that the jth observation is in the bootstrap sample?\n",
    "6. When $n = 10000$, what is the probability that the jth observation is in the bootstrap sample?\n",
    "7. Create a plot that displays, for each integer value of $n$ from $1$ to $100000$, the probability that the jth observation is in the bootstrap sample. Comment on what you observe.\n",
    "8. We will now investigate numerically the probability that a bootstrap sample of size n = 100 contains the jth observation. Here j = 4. We first create an array store with values that will subsequently be overwritten using the function `np.empty()`. We then repeatedly create bootstrap samples, and each time we record whether or not the fifth observation is contained in the bootstrap sample.\n",
    "```python\n",
    "rng = np.random.default_rng(10)\n",
    "store = np.empty(10000)\n",
    "for i in range(10000):\n",
    "    store[i] = np.sum(rng.choice(100, replace=True) == 4) > 0\n",
    "np.mean(store)\n",
    "```\n",
    "Comment on the results obtained."
   ]
  },
  {
   "cell_type": "markdown",
   "metadata": {},
   "source": []
  }
 ],
 "metadata": {
  "kernelspec": {
   "display_name": ".venv",
   "language": "python",
   "name": "python3"
  },
  "language_info": {
   "codemirror_mode": {
    "name": "ipython",
    "version": 3
   },
   "file_extension": ".py",
   "mimetype": "text/x-python",
   "name": "python",
   "nbconvert_exporter": "python",
   "pygments_lexer": "ipython3",
   "version": "3.11.6"
  }
 },
 "nbformat": 4,
 "nbformat_minor": 2
}
