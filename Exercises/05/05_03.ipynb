{
 "cells": [
  {
   "cell_type": "markdown",
   "metadata": {},
   "source": [
    "#### 3. We now review $k$-fold cross-validation.\n",
    "1. Explain how $k$-fold cross-validation is implemented.\n",
    "2. What are the advantages and disadvantages of $k$-fold crossvalidation relative to\n",
    "    1. The validation set approach?\n",
    "    2. LOOCV?"
   ]
  },
  {
   "cell_type": "markdown",
   "metadata": {},
   "source": [
    "## 1"
   ]
  },
  {
   "cell_type": "code",
   "execution_count": 14,
   "metadata": {},
   "outputs": [
    {
     "name": "stdout",
     "output_type": "stream",
     "text": [
      "1. Split\n",
      "Training Set:\n",
      "[  1.   2.   3.   4.   5.   6.   7.   8.   9.  10.  11.  14.  15.  16.\n",
      "  17.  18.  19.  20.  21.  22.  23.  24.  25.  27.  29.  30.  31.  37.\n",
      "  39.  40.  41.  42.  43.  44.  45.  46.  47.  48.  49.  50.  51.  52.\n",
      "  53.  54.  55.  57.  58.  59.  60.  61.  62.  63.  64.  66.  68.  70.\n",
      "  71.  72.  73.  74.  75.  76.  77.  78.  79.  81.  82.  83.  85.  86.\n",
      "  88.  90.  91.  92.  93.  94.  95.  96.  97. 100.]\n",
      "Test Set:\n",
      "[12. 13. 26. 28. 32. 33. 34. 35. 36. 38. 56. 65. 67. 69. 80. 84. 87. 89.\n",
      " 98. 99.]\n",
      "\n",
      "2. Split\n",
      "Training Set:\n",
      "[ 4.  5.  6.  7.  8.  9. 11. 12. 13. 14. 15. 17. 18. 20. 22. 23. 24. 25.\n",
      " 26. 27. 28. 29. 30. 31. 32. 33. 34. 35. 36. 38. 41. 42. 43. 44. 46. 47.\n",
      " 48. 49. 50. 51. 52. 53. 54. 56. 57. 58. 61. 62. 65. 67. 68. 69. 71. 72.\n",
      " 73. 74. 75. 76. 77. 78. 79. 80. 81. 82. 83. 84. 85. 86. 87. 88. 89. 90.\n",
      " 91. 92. 93. 94. 95. 97. 98. 99.]\n",
      "Test Set:\n",
      "[  1.   2.   3.  10.  16.  19.  21.  37.  39.  40.  45.  55.  59.  60.\n",
      "  63.  64.  66.  70.  96. 100.]\n",
      "\n",
      "3. Split\n",
      "Training Set:\n",
      "[  1.   2.   3.   4.   6.   8.   9.  10.  12.  13.  14.  16.  17.  18.\n",
      "  19.  20.  21.  23.  24.  25.  26.  28.  29.  32.  33.  34.  35.  36.\n",
      "  37.  38.  39.  40.  42.  44.  45.  46.  48.  49.  50.  51.  54.  55.\n",
      "  56.  58.  59.  60.  61.  62.  63.  64.  65.  66.  67.  68.  69.  70.\n",
      "  71.  73.  74.  75.  76.  77.  78.  79.  80.  81.  83.  84.  85.  86.\n",
      "  87.  89.  90.  93.  94.  96.  97.  98.  99. 100.]\n",
      "Test Set:\n",
      "[ 5.  7. 11. 15. 22. 27. 30. 31. 41. 43. 47. 52. 53. 57. 72. 82. 88. 91.\n",
      " 92. 95.]\n",
      "\n",
      "4. Split\n",
      "Training Set:\n",
      "[  1.   2.   3.   5.   7.  10.  11.  12.  13.  15.  16.  17.  18.  19.\n",
      "  21.  22.  24.  25.  26.  27.  28.  29.  30.  31.  32.  33.  34.  35.\n",
      "  36.  37.  38.  39.  40.  41.  43.  44.  45.  46.  47.  49.  50.  52.\n",
      "  53.  54.  55.  56.  57.  59.  60.  62.  63.  64.  65.  66.  67.  68.\n",
      "  69.  70.  71.  72.  74.  76.  77.  79.  80.  81.  82.  84.  87.  88.\n",
      "  89.  90.  91.  92.  95.  96.  97.  98.  99. 100.]\n",
      "Test Set:\n",
      "[ 4.  6.  8.  9. 14. 20. 23. 42. 48. 51. 58. 61. 73. 75. 78. 83. 85. 86.\n",
      " 93. 94.]\n",
      "\n",
      "5. Split\n",
      "Training Set:\n",
      "[  1.   2.   3.   4.   5.   6.   7.   8.   9.  10.  11.  12.  13.  14.\n",
      "  15.  16.  19.  20.  21.  22.  23.  26.  27.  28.  30.  31.  32.  33.\n",
      "  34.  35.  36.  37.  38.  39.  40.  41.  42.  43.  45.  47.  48.  51.\n",
      "  52.  53.  55.  56.  57.  58.  59.  60.  61.  63.  64.  65.  66.  67.\n",
      "  69.  70.  72.  73.  75.  78.  80.  82.  83.  84.  85.  86.  87.  88.\n",
      "  89.  91.  92.  93.  94.  95.  96.  98.  99. 100.]\n",
      "Test Set:\n",
      "[17. 18. 24. 25. 29. 44. 46. 49. 50. 54. 62. 68. 71. 74. 76. 77. 79. 81.\n",
      " 90. 97.]\n",
      "\n"
     ]
    }
   ],
   "source": [
    "import numpy as np\n",
    "_rng = np.random.default_rng(0x2024_04_24)\n",
    "x: np.ndarray[np.float32] = np.arange(100).astype(np.float32) + 1\n",
    "_rng.shuffle(x)\n",
    "\n",
    "\n",
    "np.concatenate\n",
    "\n",
    "k = 5\n",
    "k_fold: list[np.ndarray] = np.array_split(x, k)\n",
    "\n",
    "for i, kp in enumerate(range(k)):\n",
    "    print(f\"{kp + 1}. Split\")\n",
    "    print(\"Training Set:\")\n",
    "    training_set = np.concatenate([split for j, split in enumerate(k_fold) if j != i]).copy()\n",
    "    training_set.sort()\n",
    "    print(training_set)\n",
    "    print(\"Test Set:\")\n",
    "    test_set = k_fold[i].copy()\n",
    "    test_set.sort()\n",
    "    print(test_set)\n",
    "    print()"
   ]
  },
  {
   "cell_type": "code",
   "execution_count": 4,
   "metadata": {},
   "outputs": [
    {
     "data": {
      "text/plain": [
       "array([ 84.,  80.,  36.,  32.,  35.,  33.,  65.,  26.,  98.,  69.,  13.,\n",
       "        89.,  56.,  87.,  12.,  34.,  67.,  28.,  38.,  99.,  45.,  40.,\n",
       "        10.,  55.,  96.,  66.,  19.,  16.,   3.,  63.,  21.,  70.,  39.,\n",
       "       100.,  60.,  59.,  64.,   1.,  37.,   2.,  88.,  31.,  91.,  15.,\n",
       "        27.,  41.,   7.,  53.,  82.,  72.,  95.,   5.,  43.,  22.,  57.,\n",
       "        92.,  30.,  47.,  11.,  52.,  14.,  85.,   9.,  51.,  73.,  86.,\n",
       "        42.,  20.,   8.,  78.,  58.,  61.,  23.,   4.,  83.,  94.,   6.,\n",
       "        48.,  75.,  93.,  77.,  50.,  71.,  81.,  18.,  97.,  68.,  54.,\n",
       "        90.,  29.,  76.,  74.,  25.,  62.,  46.,  24.,  17.,  79.,  44.,\n",
       "        49.], dtype=float32)"
      ]
     },
     "execution_count": 4,
     "metadata": {},
     "output_type": "execute_result"
    }
   ],
   "source": [
    "k_fold\n",
    "\n",
    "np.concatenate(k_fold)"
   ]
  },
  {
   "cell_type": "markdown",
   "metadata": {},
   "source": [
    "## 2"
   ]
  },
  {
   "cell_type": "markdown",
   "metadata": {},
   "source": [
    "1. We can use more of the data for training, and the validation set approach is not as dependent on the random split of the data.\n",
    "2. LOOCV is computationally expensive, and $k$-fold cross-validation is less computationally expensive."
   ]
  }
 ],
 "metadata": {
  "kernelspec": {
   "display_name": ".venv",
   "language": "python",
   "name": "python3"
  },
  "language_info": {
   "codemirror_mode": {
    "name": "ipython",
    "version": 3
   },
   "file_extension": ".py",
   "mimetype": "text/x-python",
   "name": "python",
   "nbconvert_exporter": "python",
   "pygments_lexer": "ipython3",
   "version": "3.11.6"
  }
 },
 "nbformat": 4,
 "nbformat_minor": 2
}
