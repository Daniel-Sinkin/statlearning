{
 "cells": [
  {
   "cell_type": "markdown",
   "metadata": {},
   "source": [
    "#### 1. Using basic statistical properties of the variance, as well as singlevariable calculus, derive (5.6). In other words, prove that $\\alpha$ given by (5.6) does indeed minimize $\\operatorname{Var}(\\alpha X + (1 − \\alpha)Y)$."
   ]
  },
  {
   "cell_type": "markdown",
   "metadata": {},
   "source": [
    "$$\n",
    "\\begin{aligned}\n",
    "\\operatorname{Var}(\\alpha X + (1 - \\alpha) Y) &= E[(\\alpha X + (1 - \\alpha)Y)^2] - E[\\alpha X + (1 - \\alpha)Y]^2 \\\\\n",
    "&= E[\\alpha^2 X^2 + 2\\alpha(1 - \\alpha)XY + (1 - \\alpha)^2 Y^2] - (\\alpha E[X] + (1 - \\alpha)E[Y])^2 \\\\\n",
    "&= \\alpha^2 E[X^2] + 2\\alpha(1 - \\alpha)E[XY] + (1 - \\alpha)^2 E[Y^2] - \\alpha^2 E[X]^2 - 2\\alpha(1 - \\alpha)E[XY] - (1 - \\alpha)^2 E[Y]^2 \\\\\n",
    "\\end{aligned}\n",
    "$$"
   ]
  },
  {
   "cell_type": "markdown",
   "metadata": {},
   "source": [
    "We write $\\operatorname{Var}(X) = E[X^2] - E[X]^2 =: \\sigma_X^2, \\operatorname{Var}(Y) = E[Y^2] - E[Y]^2 =: \\sigma_Y^2$ and $E[XY] - E[X]E[Y] =: \\sigma_{XY}$. With this the above expression simplifies to\n",
    "$$\n",
    "\\begin{aligned}\n",
    "\\operatorname{Var}(\\alpha X + (1 - \\alpha) Y) &= \\alpha^2 \\sigma_X^2 + 2\\alpha(1 - \\alpha)\\sigma_{XY} + (1 - \\alpha)^2 \\sigma_Y^2 \\\\\n",
    "&= \\alpha^2 \\sigma_X^2 + 2\\alpha \\sigma_{XY} - 2\\alpha^2 \\sigma_{XY} + \\sigma_Y^2 - 2\\alpha \\sigma_Y^2 + \\alpha^2 \\sigma_Y^2 =: f(\\alpha)\n",
    "\\end{aligned}\n",
    "$$"
   ]
  },
  {
   "cell_type": "markdown",
   "metadata": {},
   "source": [
    "$$\n",
    "\\begin{aligned}\n",
    "f'(\\alpha) &= 2\\alpha \\sigma_X^2 + 2 \\sigma_{XY} - 4\\alpha \\sigma_{XY} - 2\\sigma_Y^2 + 2\\alpha \\sigma_Y^2 \\\\\n",
    "&= 2\\alpha(\\sigma_X^2 - 2 \\sigma­_{XY} + \\sigma_Y^2) + 2(\\sigma_{XY} - \\sigma_Y^2) \\overset{!}{=} 0\n",
    "\\end{aligned}\n",
    "$$\n",
    "This is equivalent to\n",
    "$$\n",
    "\\begin{aligned}\n",
    "\\alpha(\\sigma_X^2 - 2 \\sigma_{XY} + \\sigma_Y^2) &= \\sigma_Y^2 - \\sigma_{XY} \\\\\n",
    "\\alpha &= \\frac{\\sigma_Y^2 - \\sigma_{XY}}{\\sigma_X^2 + \\sigma_Y^2 - 2 \\sigma_{XY}}.\n",
    "\\end{aligned}\n",
    "$$"
   ]
  },
  {
   "cell_type": "markdown",
   "metadata": {},
   "source": [
    "$$\n",
    "\n",
    "$$"
   ]
  },
  {
   "cell_type": "markdown",
   "metadata": {},
   "source": []
  }
 ],
 "metadata": {
  "kernelspec": {
   "display_name": ".venv",
   "language": "python",
   "name": "python3"
  },
  "language_info": {
   "codemirror_mode": {
    "name": "ipython",
    "version": 3
   },
   "file_extension": ".py",
   "mimetype": "text/x-python",
   "name": "python",
   "nbconvert_exporter": "python",
   "pygments_lexer": "ipython3",
   "version": "3.11.6"
  }
 },
 "nbformat": 4,
 "nbformat_minor": 2
}
