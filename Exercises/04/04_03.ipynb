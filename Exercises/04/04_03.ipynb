{
 "cells": [
  {
   "cell_type": "markdown",
   "metadata": {},
   "source": [
    "#### 3. This problem relates to the $\\operatorname{QDA}$ model, in which the observations within each class are drawn from a normal distribution with a class-specific mean vector and a class specific covariance matrix. We consider the simple case where $p = 1$; i.e. there is only one feature. Suppose that we have K classes, and that if an observation belongs to the kth class then $X$ comes from a one-dimensional normal distribution, $X ∼ N(\\mu_k, \\sigma_k^2 )$. Recall that the density function for the one-dimensional normal distribution is given in (4.16). Prove that in this case, the Bayes classifier is not linear. Argue that it is in fact quadratic. Hint: For this problem, you should follow the arguments laid out in Section 4.4.1, but without making the assumption that $\\sigma_1^2 = \\sigma_2^2 = \\dots = \\sigma_k^2$."
   ]
  },
  {
   "cell_type": "markdown",
   "metadata": {},
   "source": [
    "Recal that we can write $p_k$ as\n",
    "$$\n",
    "\\begin{aligned}\n",
    "p_k(x) = \\frac{\\pi_k \\frac{1}{\\sqrt{2 \\pi} \\sigma_k} \\exp\\left( - \\frac{1}{2\\sigma_k^2} (x - \\mu_k)^2\\right)}{\\sum_{\\ell = 1}^K \\pi_\\ell \\frac{1}{\\sqrt{2 \\pi} \\sigma_k} \\exp\\left( - \\frac{1}{2\\sigma_k^2} (x - \\mu_\\ell)^2\\right)}\n",
    "\\end{aligned}\n",
    "$$\n",
    "taking the log of this yields\n",
    "$$\n",
    "\\log(p_k(x)) = \\log(r(k)) \\underbrace{- \\log\\left(\\sum_{\\ell = 1}^k r(\\ell) \\right)}_{\\operatorname{const}}\n",
    "$$\n",
    "where $r(k) := \\pi_k \\frac{1}{\\sqrt{2 \\pi} \\sigma_k} \\exp\\left( - \\frac{1}{2\\sigma_k^2} (x - \\mu_k)^2\\right)$. Recall that the logarithm is monotonically increasing, so maximizing $p_k(x)$ is equivalent to maximizing $r(k)$ because the sum of the $r(k)$'s is a constant.\n",
    "\n",
    "$$\n",
    "\\begin{aligned}\n",
    "\\log(r(k)) &= \\log(\\pi_k) - \\log(\\sqrt{2 \\pi} \\sigma_k) - \\frac{1}{2\\sigma_k^2} (x - \\mu_k)^2 \\\\\n",
    "&= - \\frac{1}{2} \\log(2\\pi) - \\log(\\sigma_k) - \\frac{1}{2\\sigma_k^2} (x - \\mu_k)^2 + \\log(\\pi_k) \\\\\n",
    "&= \\underbrace{- \\frac{1}{2} \\log(2\\pi)}_{\\operatorname{const}} \\underbrace{- \\log(\\sigma_k) - \\frac{1}{2\\sigma_k^2} x^2 + \\frac{1}{2\\sigma_k^2} x \\mu_k - \\frac{1}{2\\sigma_k^2} \\mu_k^2 + \\log(\\pi_k)}_{=: \\delta_k(x)}\n",
    "\\end{aligned}\n",
    "$$\n",
    "\n",
    "In total we have shown that maximizing $p_k(x)$ is equivalent to maximizing $\\delta_k(x)$."
   ]
  }
 ],
 "metadata": {
  "kernelspec": {
   "display_name": ".venv",
   "language": "python",
   "name": "python3"
  },
  "language_info": {
   "codemirror_mode": {
    "name": "ipython",
    "version": 3
   },
   "file_extension": ".py",
   "mimetype": "text/x-python",
   "name": "python",
   "nbconvert_exporter": "python",
   "pygments_lexer": "ipython3",
   "version": "3.11.6"
  }
 },
 "nbformat": 4,
 "nbformat_minor": 2
}
