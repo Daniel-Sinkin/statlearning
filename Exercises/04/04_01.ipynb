{
 "cells": [
  {
   "cell_type": "markdown",
   "metadata": {},
   "source": [
    "#### 1. Using a little bit of algebra, prove that (4.2) is equivalent to (4.3). In other words, the logistic function representation and logit representation for the logistic regression model are equivalent."
   ]
  },
  {
   "cell_type": "markdown",
   "metadata": {},
   "source": [
    "We write $Y := \\beta_0 + \\beta_1 X$ then\n",
    "$$\n",
    "\\begin{aligned}\n",
    "p(X) = \\frac{e^Y}{1 + e^Y},&& 1 - p(X) = 1 - \\frac{e^Y}{1 + e^Y} = \\frac{1}{1 + e^Y}\n",
    "\\end{aligned}\n",
    "$$\n",
    "and therefore\n",
    "$$\n",
    "\\frac{p(X)}{1 - p(X)} = \\frac{e^Y}{1 + e^Y} \\cdot \\frac{1 + e^Y}{1} = e^Y = e^{\\beta_0 + \\beta_1 X}\n",
    "$$"
   ]
  },
  {
   "cell_type": "markdown",
   "metadata": {},
   "source": []
  }
 ],
 "metadata": {
  "kernelspec": {
   "display_name": ".venv",
   "language": "python",
   "name": "python3"
  },
  "language_info": {
   "codemirror_mode": {
    "name": "ipython",
    "version": 3
   },
   "file_extension": ".py",
   "mimetype": "text/x-python",
   "name": "python",
   "nbconvert_exporter": "python",
   "pygments_lexer": "ipython3",
   "version": "3.11.6"
  }
 },
 "nbformat": 4,
 "nbformat_minor": 2
}
