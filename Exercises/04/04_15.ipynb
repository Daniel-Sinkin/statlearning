{
 "cells": [
  {
   "cell_type": "markdown",
   "metadata": {},
   "source": [
    "#### 15. This problem involves writing functions.\n",
    "1. Write a function, `Power()`, that prints out the result of raising two to the third power. In other words, your function should compute $2^3$ and print out the results. Hint: Recall that `x**a` raises `x` to the power `a`. Use the `print()` function to display the result.\n",
    "2. Create a new function, `Power2()`, that allows you to pass any two numbers, `x` and `a`, and prints out the value of `x**a`. You can do this by beginning your function with the line `def Power2(x, a):`\n",
    "You should be able to call your function by entering, for instance, `Power2(3, 8)` on the command line. This should output the value of $3^8$, namely, $6561$.\n",
    "3. Using the `Power2()` function that you just wrote, compute $10^3$, $8^{17}$, and $131^3$.\n",
    "4. Now create a new function, Power3(), that actually returns the result `x**a` as a Python object, rather than simply printing it to the screen. That is, if you store the value `x**a` in an object called result within your function, then you can simply return this result, using the following line: `return result`. Note that the line above should be the last line in your function, and it should be indented 4 spaces.\n",
    "5. Now using the `Power3()` function, create a plot of $f(x) = x^2$. The $x$-axis should display a range of integers from $1$ to $10$, and the $y$-axis should display $x^2$. Label the axes appropriately, and use an appropriate title for the figure. Consider displaying either the $x$-axis, the $y$-axis, or both on the $log$-scale. You can do this by using the `ax.set_xscale()` and `ax.set_yscale()` methods of the axes you are plotting to.\n",
    "6. Create a function, `PlotPower()`, that allows you to create a plot of `x` against `x**a` for a fixed `a` and a sequence of values of `x`. For instance, if you call `PlotPower(np.arange(1, 11), 3)` then a plot should be created with an x-axis taking on values $1, 2, \\dots, 10$, and a $y$-axis taking on values $1^3, 2^3, \\dots, 10^3$."
   ]
  },
  {
   "cell_type": "code",
   "execution_count": null,
   "metadata": {},
   "outputs": [],
   "source": [
    "def Power():\n",
    "    print(2**3)\n",
    "Power()"
   ]
  },
  {
   "cell_type": "code",
   "execution_count": null,
   "metadata": {},
   "outputs": [],
   "source": [
    "def Power2(x, a):\n",
    "    print(x**a)\n",
    "Power2(3, 8)\n",
    "Power2(10, 3)\n",
    "Power2(8, 17)\n",
    "Power2(131, 3)"
   ]
  },
  {
   "cell_type": "code",
   "execution_count": null,
   "metadata": {},
   "outputs": [],
   "source": [
    "def Power3(x, a):\n",
    "    result = x ** a\n",
    "    return result "
   ]
  },
  {
   "cell_type": "code",
   "execution_count": null,
   "metadata": {},
   "outputs": [],
   "source": [
    "x = range(1, 10 + 1)\n",
    "y = [Power3(x_, 2) for x_ in x]\n",
    "\n",
    "import matplotlib.pyplot as plt\n",
    "plt.plot(x, y)\n",
    "plt.title(\"$y = x^2$\")\n",
    "plt.xlabel(\"x\")\n",
    "plt.ylabel(\"$y$\")\n",
    "plt.savefig(\"04_15_01.png\")\n",
    "plt.show()"
   ]
  },
  {
   "cell_type": "code",
   "execution_count": null,
   "metadata": {},
   "outputs": [],
   "source": [
    "import numpy as np\n",
    "import matplotlib.pyplot as plt\n",
    "\n",
    "def PlotPower(x, a):\n",
    "    plt.plot(x, x ** a)\n",
    "    plt.title(f\"$y = x^{a}$\")\n",
    "    plt.xlabel(\"x\")\n",
    "    plt.ylabel(\"$y$\")\n",
    "    plt.savefig(\"04_15_02.png\")\n",
    "    plt.show()\n",
    "PlotPower(np.arange(1, 11), 3)"
   ]
  },
  {
   "cell_type": "code",
   "execution_count": null,
   "metadata": {},
   "outputs": [],
   "source": []
  }
 ],
 "metadata": {
  "kernelspec": {
   "display_name": ".venv",
   "language": "python",
   "name": "python3"
  },
  "language_info": {
   "codemirror_mode": {
    "name": "ipython",
    "version": 3
   },
   "file_extension": ".py",
   "mimetype": "text/x-python",
   "name": "python",
   "nbconvert_exporter": "python",
   "pygments_lexer": "ipython3",
   "version": "3.11.6"
  }
 },
 "nbformat": 4,
 "nbformat_minor": 2
}
