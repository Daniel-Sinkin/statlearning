{
 "cells": [
  {
   "cell_type": "markdown",
   "metadata": {},
   "source": [
    "#### 2. It was stated in the text that classifying an observation to the class for which (4.17) is largest is equivalent to classifying an observation to the class for which (4.18) is largest. Prove that this is the case. In other words, under the assumption that the observations in the kth class are drawn from a $\\mathcal{N}(\\mu_k, \\sigma^2)$ distribution, the Bayes classifier assigns an observation to the class for which the discriminant function is maximized."
   ]
  },
  {
   "cell_type": "markdown",
   "metadata": {},
   "source": [
    "Recal that we can write $p_k$ as\n",
    "$$\n",
    "\\begin{aligned}\n",
    "p_k(x) = \\frac{\\pi_k \\frac{1}{\\sqrt{2 \\pi} \\sigma} \\exp\\left( - \\frac{1}{2\\sigma^2} (x - \\mu_k)^2\\right)}{\\sum_{\\ell = 1}^K \\pi_\\ell \\frac{1}{\\sqrt{2 \\pi} \\sigma} \\exp\\left( - \\frac{1}{2\\sigma^2} (x - \\mu_\\ell)^2\\right)}\n",
    "\\end{aligned}\n",
    "$$\n",
    "taking the log of this yields\n",
    "$$\n",
    "\\log(p_k(x)) = \\log(r(k)) \\underbrace{- \\log\\left(\\sum_{\\ell = 1}^k r(\\ell) \\right)}_{\\operatorname{const}}\n",
    "$$\n",
    "where $r(k) := \\pi_k \\frac{1}{\\sqrt{2 \\pi} \\sigma} \\exp\\left( - \\frac{1}{2\\sigma^2} (x - \\mu_k)^2\\right)$. Recall that the logarithm is monotonically increasing, so maximizing $p_k(x)$ is equivalent to maximizing $r(k)$ because the sum of the $r(k)$'s is a constant.\n",
    "\n",
    "$$\n",
    "\\begin{aligned}\n",
    "\\log(r(k)) &= \\log(\\pi_k) - \\log(\\sqrt{2 \\pi} \\sigma) - \\frac{1}{2\\sigma^2} (x - \\mu_k)^2 \\\\\n",
    "&= - \\frac{1}{2} \\log(2\\pi) - \\log(\\sigma) - \\frac{1}{2\\sigma^2} (x - \\mu_k)^2 + \\log(\\pi_k) \\\\\n",
    "&= \\underbrace{- \\frac{1}{2} \\log(2\\pi) - \\log(\\sigma) - \\frac{1}{2\\sigma^2} x^2}_{\\operatorname{const}} + \\underbrace{\\frac{1}{2\\sigma^2} x \\mu_k - \\frac{1}{2\\sigma^2} \\mu_k^2 + \\log(\\pi_k)}_{=: \\delta_k(x)}\n",
    "\\end{aligned}\n",
    "$$\n",
    "\n",
    "In total we have shown that maximizing $p_k(x)$ is equivalent to maximizing $\\delta_k(x)$."
   ]
  },
  {
   "cell_type": "markdown",
   "metadata": {},
   "source": []
  }
 ],
 "metadata": {
  "kernelspec": {
   "display_name": ".venv",
   "language": "python",
   "name": "python3"
  },
  "language_info": {
   "codemirror_mode": {
    "name": "ipython",
    "version": 3
   },
   "file_extension": ".py",
   "mimetype": "text/x-python",
   "name": "python",
   "nbconvert_exporter": "python",
   "pygments_lexer": "ipython3",
   "version": "3.11.6"
  }
 },
 "nbformat": 4,
 "nbformat_minor": 2
}
