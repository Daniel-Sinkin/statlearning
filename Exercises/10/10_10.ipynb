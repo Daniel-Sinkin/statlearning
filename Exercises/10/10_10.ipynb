{
 "cells": [
  {
   "cell_type": "markdown",
   "metadata": {},
   "source": [
    "# Question 10\n",
    "In Section `10.9.6`, we showed how to fit a linear $\\operatorname{AR}$ model to the `NYSE` data using the `LinearRegression()` function. However, we also mentioned that we can \"flatten\" the short sequences produced for the $\\operatorname{RNN}$ model in order to fit a linear $\\operatorname{AR}$ model. Use this latter approach to fit a linear $\\operatorname{AR}$ model to the `NYSE` data. Compare the test $R^2$ of this linear $\\operatorname{AR}$ model to that of the linear $\\operatorname{AR}$ model that we fit in the lab. What are the advantages/disadvantages of each approach?"
   ]
  },
  {
   "cell_type": "markdown",
   "metadata": {},
   "source": []
  }
 ],
 "metadata": {
  "kernelspec": {
   "display_name": ".venv",
   "language": "python",
   "name": "python3"
  },
  "language_info": {
   "codemirror_mode": {
    "name": "ipython",
    "version": 3
   },
   "file_extension": ".py",
   "mimetype": "text/x-python",
   "name": "python",
   "nbconvert_exporter": "python",
   "pygments_lexer": "ipython3",
   "version": "3.11.6"
  }
 },
 "nbformat": 4,
 "nbformat_minor": 2
}
