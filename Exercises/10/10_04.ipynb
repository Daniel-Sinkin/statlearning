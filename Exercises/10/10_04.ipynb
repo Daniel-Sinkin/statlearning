{
 "cells": [
  {
   "cell_type": "markdown",
   "metadata": {},
   "source": [
    "# Question 4\n",
    "Consider a $\\operatorname{CNN}$ that takes in $32 \\times 32$ grayscale images and has a single convolution layer with three $5 \\times 5$ convolution filters (without boundary padding).\n",
    "1. Draw a sketch of the input and first hidden layer similar to Figure `10.8`.\n",
    "2. How many parameters are in this model?\n",
    "3. Explain how this model can be thought of as an ordinary feedforward neural network with the individual pixels as inputs, and with constraints on the weights in the hidden units. What are the constraints?\n",
    "4. If there were no constraints, then how many weights would there be in the ordinary feed-forward neural network in (3)?"
   ]
  },
  {
   "cell_type": "markdown",
   "metadata": {},
   "source": []
  }
 ],
 "metadata": {
  "kernelspec": {
   "display_name": ".venv",
   "language": "python",
   "name": "python3"
  },
  "language_info": {
   "codemirror_mode": {
    "name": "ipython",
    "version": 3
   },
   "file_extension": ".py",
   "mimetype": "text/x-python",
   "name": "python",
   "nbconvert_exporter": "python",
   "pygments_lexer": "ipython3",
   "version": "3.11.6"
  }
 },
 "nbformat": 4,
 "nbformat_minor": 2
}
