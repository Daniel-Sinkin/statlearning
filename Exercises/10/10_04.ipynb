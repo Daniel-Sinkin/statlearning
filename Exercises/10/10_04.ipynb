{
 "cells": [
  {
   "cell_type": "markdown",
   "metadata": {},
   "source": [
    "# Question 4\n",
    "Consider a $\\operatorname{CNN}$ that takes in $32 \\times 32$ grayscale images and has a single convolution layer with three $5 \\times 5$ convolution filters (without boundary padding).\n",
    "1. Draw a sketch of the input and first hidden layer similar to Figure `10.8`.\n",
    "2. How many parameters are in this model?\n",
    "3. Explain how this model can be thought of as an ordinary feedforward neural network with the individual pixels as inputs, and with constraints on the weights in the hidden units. What are the constraints?\n",
    "4. If there were no constraints, then how many weights would there be in the ordinary feed-forward neural network in (3)?"
   ]
  },
  {
   "cell_type": "markdown",
   "metadata": {},
   "source": [
    "## 1\n",
    "Skipping as the image is very basic."
   ]
  },
  {
   "cell_type": "markdown",
   "metadata": {},
   "source": [
    "## 2\n",
    "A $32 \\times 32$ grayscale image represents an input tensor of shape $(N, 1, 32, 32)$ where N is the batch size. The convolution then \"copies\" the image $3$ times, once for every conv later and the convolution creates a resulting image of size $(32 - 5 + 1) \\times (32 - 5 + 1) = 28 \\times 28$. \n",
    "\n",
    "The resulting tensor will have shape\n",
    "$$\n",
    "(N, 3, 28, 28)\n",
    "$$\n",
    "and the number of weights is 3 times the number of weights per kernel which is equal to the size of the kernel $5^2 = 25$, so the total number of weights is $75$. We also have to add a bias for each kernel so the total number of parameters is $75 + 3 = 78$."
   ]
  },
  {
   "cell_type": "markdown",
   "metadata": {},
   "source": [
    "## 3\n",
    "Total number of pixels is $32 \\cdot 32 = 1024$. The CNN condition gives us a locality constraint, given that we have a $5 \\times 5$ kernels we have a condition like\n",
    "$$\n",
    "y_{ij}^{(s)} = \\sum_{k = -2}^2 w_{ij} x_{i + k,j + k}\n",
    "$$\n",
    "where $1 \\leq s \\leq 3$. The output has the dimension of the flattened convolution, i.e., $28^2 = 784$."
   ]
  },
  {
   "cell_type": "markdown",
   "metadata": {},
   "source": [
    "## 4\n",
    "The unconstrained feed forward network has $32^2$ inputs and $3 \\cdot 28^2$ outputs so in total $(32^2 + 1) \\cdot 3 \\cdot 28^2 = 2.410.800$ weights."
   ]
  }
 ],
 "metadata": {
  "kernelspec": {
   "display_name": ".venv",
   "language": "python",
   "name": "python3"
  },
  "language_info": {
   "codemirror_mode": {
    "name": "ipython",
    "version": 3
   },
   "file_extension": ".py",
   "mimetype": "text/x-python",
   "name": "python",
   "nbconvert_exporter": "python",
   "pygments_lexer": "ipython3",
   "version": "3.11.6"
  }
 },
 "nbformat": 4,
 "nbformat_minor": 2
}
