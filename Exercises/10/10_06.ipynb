{
 "cells": [
  {
   "cell_type": "markdown",
   "metadata": {},
   "source": [
    "# Question 6\n",
    "Consider the simple function $R(\\beta) = \\sin(\\beta) + \\beta /10$.\n",
    "1. Draw a graph of this function over the range $\\beta ∈ [−6, 6]$.\n",
    "1. What is the derivative of this function?\n",
    "1. Given $\\beta_0 = 2.3$, run gradient descent to find a local minimum of $R(\\beta)$ using a learning rate of $\\rho = 0.1$. Show each of $\\beta_00, ­\\beta1, \\dots$ in your plot, as well as the final answer.\n",
    "1. Repeat with $\\beta_0 = 1.4$."
   ]
  },
  {
   "cell_type": "markdown",
   "metadata": {},
   "source": []
  }
 ],
 "metadata": {
  "kernelspec": {
   "display_name": ".venv",
   "language": "python",
   "name": "python3"
  },
  "language_info": {
   "codemirror_mode": {
    "name": "ipython",
    "version": 3
   },
   "file_extension": ".py",
   "mimetype": "text/x-python",
   "name": "python",
   "nbconvert_exporter": "python",
   "pygments_lexer": "ipython3",
   "version": "3.11.6"
  }
 },
 "nbformat": 4,
 "nbformat_minor": 2
}
