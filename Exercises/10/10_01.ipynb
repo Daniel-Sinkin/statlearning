{
 "cells": [
  {
   "cell_type": "markdown",
   "metadata": {},
   "source": [
    "# Question 1\n",
    "Consider a neural network with two hidden layers: $p = 4$ input units, $2$ units in the first hidden layer, $3 $units in the second hidden layer, and a single output.\n",
    "(a) Draw a picture of the network, similar to Figures `10.1` or `10.4`.\n",
    "(b) Write out an expression for $f(X)$, assuming $\\operatorname{ReLU}$ activation functions. Be as explicit as you can!\n",
    "(c) Now plug in some values for the coefficients and write out the value of $f(X)$.\n",
    "(d) How many parameters are there?"
   ]
  },
  {
   "cell_type": "markdown",
   "metadata": {},
   "source": []
  }
 ],
 "metadata": {
  "kernelspec": {
   "display_name": ".venv",
   "language": "python",
   "name": "python3"
  },
  "language_info": {
   "codemirror_mode": {
    "name": "ipython",
    "version": 3
   },
   "file_extension": ".py",
   "mimetype": "text/x-python",
   "name": "python",
   "nbconvert_exporter": "python",
   "pygments_lexer": "ipython3",
   "version": "3.11.6"
  }
 },
 "nbformat": 4,
 "nbformat_minor": 2
}
