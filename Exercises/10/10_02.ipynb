{
 "cells": [
  {
   "cell_type": "markdown",
   "metadata": {},
   "source": [
    "# Question 2\n",
    "Consider the softmax function in `(10.13)` (see also `(4.13)` on page `145`) for modeling multinomial probabilities.\n",
    "1. In `(10.13)`, show that if we add a constant $c$ to each of the $z_\\ell$, then the probability is unchanged.\n",
    "2. In `(4.13)`, show that if we add constants $c_j, j = 0, 1, \\dots , p$, to each of the corresponding coefficients for each of the classes, then the predictions at any new point $x$ are unchanged.\n",
    "This shows that the softmax function is *over-parametrized*. However, overregularization and $\\operatorname{SGD}$ typically constrain the solutions so that this parametrized is not a problem."
   ]
  },
  {
   "cell_type": "markdown",
   "metadata": {},
   "source": [
    "I have solved these problems in my [repo](https://github.com/Daniel-Sinkin/d2l/blob/main/Exercises/4_linear-classification/1_softmax-regression/softmax-regression_6.ipynb) for the D2L book."
   ]
  }
 ],
 "metadata": {
  "kernelspec": {
   "display_name": ".venv",
   "language": "python",
   "name": "python3"
  },
  "language_info": {
   "codemirror_mode": {
    "name": "ipython",
    "version": 3
   },
   "file_extension": ".py",
   "mimetype": "text/x-python",
   "name": "python",
   "nbconvert_exporter": "python",
   "pygments_lexer": "ipython3",
   "version": "3.11.6"
  }
 },
 "nbformat": 4,
 "nbformat_minor": 2
}
