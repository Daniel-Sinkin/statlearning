{
 "cells": [
  {
   "cell_type": "markdown",
   "metadata": {},
   "source": [
    "#### 5. Consider the fitted values that result from performing linear regression without an intercept. In this setting, the $i$th fitted value takes the form\n",
    "$$\n",
    "\\hat{y}_i = x_i \\hat{\\beta},\n",
    "$$\n",
    "where\n",
    "$$\n",
    "\\hat{\\beta} = \\left( \\sum_{i = 1}^n x_i y_i \\right) / \\left( \\sum_{j = 1}^n x_j^2 \\right).\n",
    "$$\n",
    "Show that we can write\n",
    "$$\n",
    "\\hat{y}_t = \\sum_{i = 1}^n a_k y_k.\n",
    "$$\n",
    "What is $a_i$?\n",
    "\n",
    "Note: We interpret this result by saying that the fitted values from linear regression are linear combinations of the response values."
   ]
  },
  {
   "cell_type": "markdown",
   "metadata": {},
   "source": [
    "$$\n",
    "\\begin{aligned}\n",
    "\\hat{y}_t &= x_t \\left( \\sum_{i = 1}^n x_i y_i \\right) / \\left( \\sum_{j = 1}^n x_j^2 \\right) \\\\\n",
    "&= x_t \\left( \\sum_{i = 1}^n x_i y_i \\right) / ||x||^2 \\\\\n",
    "&= \\sum_{i = 1}^n \\underbrace{\\frac{x_t x_i}{||x||^2}}_{=:\\ a_t} y_i\n",
    "\\end{aligned}\n",
    "$$"
   ]
  }
 ],
 "metadata": {
  "language_info": {
   "name": "python"
  }
 },
 "nbformat": 4,
 "nbformat_minor": 2
}
