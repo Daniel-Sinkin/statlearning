{
 "cells": [
  {
   "cell_type": "markdown",
   "metadata": {},
   "source": [
    "# Question 8\n",
    "This question involves the use of simple linear regression on the Auto data set.\n",
    "##### (a) Use the `sm.OLS()` function to perform a simple linear regression with mpg as the response and horsepower as the predictor. Use the `summarize()` function to print the results. Comment on the output. For example:\n",
    "1.  Is there a relationship between the predictor and the re- sponse?\n",
    "2. How strong is the relationship between the predictor and the response?\n",
    "3. Is the relationship between the predictor and the response positive or negative?\n",
    "4. What is the predicted mpg associated with a `horsepower` of 98? What are the associated 95 % confidence and prediction intervals?\n",
    "\n",
    "##### (b) Plot the response and the predictor in a new set of axes `ax`. Use the `ax.axline()` method or the `abline()` function defined in the lab to display the least squares regression line.\n",
    "\n",
    "##### (c) Produce some of diagnostic plots of the least squares regression fit as described in the lab. Comment on any problems you see with the fit.\n",
    "----"
   ]
  },
  {
   "cell_type": "markdown",
   "metadata": {},
   "source": [
    "#### (a)"
   ]
  },
  {
   "cell_type": "code",
   "execution_count": null,
   "metadata": {},
   "outputs": [],
   "source": [
    "import pandas as pd\n",
    "import numpy as np\n",
    "import matplotlib.pyplot as plt\n",
    "\n",
    "import statsmodels.api as sm"
   ]
  },
  {
   "cell_type": "code",
   "execution_count": null,
   "metadata": {},
   "outputs": [],
   "source": [
    "data: pd.DataFrame = pd.read_csv(\"../../data/Auto.csv\", na_values=\"?\").dropna()\n",
    "print(data.dtypes)"
   ]
  },
  {
   "cell_type": "code",
   "execution_count": null,
   "metadata": {},
   "outputs": [],
   "source": [
    "model = sm.OLS(data.mpg, sm.add_constant(data.horsepower))\n",
    "results = model.fit()\n",
    "results.summary()"
   ]
  },
  {
   "cell_type": "code",
   "execution_count": null,
   "metadata": {},
   "outputs": [],
   "source": [
    "plt.scatter(data.horsepower, data.mpg, label='Data')\n",
    "plt.plot(data.horsepower, results.fittedvalues, color='red', label='Regression Line')\n",
    "\n",
    "print(results.params)\n",
    "\n",
    "plt.plot(\n",
    "    data.horsepower,\n",
    "    results.params.const + results.params.horsepower * data.horsepower,\n",
    "    label='Manual Regression Line',\n",
    "    c = \"black\",\n",
    "    dashes=[2, 4],\n",
    "    ls = \"--\",\n",
    "    zorder = 10,\n",
    ")\n",
    "\n",
    "plt.xlabel('Horsepower')\n",
    "plt.ylabel('MPG')\n",
    "plt.title('Regression Results')\n",
    "plt.legend()\n",
    "plt.show()\n"
   ]
  },
  {
   "cell_type": "markdown",
   "metadata": {},
   "source": [
    "We can see that `mpg` decreases as horsepower increases, the $R^2$ error of 0.6 indicates that a more complicated relationship would probabably be better. The std err of the constant is quite high."
   ]
  }
 ],
 "metadata": {
  "kernelspec": {
   "display_name": ".venv",
   "language": "python",
   "name": "python3"
  },
  "language_info": {
   "codemirror_mode": {
    "name": "ipython",
    "version": 3
   },
   "file_extension": ".py",
   "mimetype": "text/x-python",
   "name": "python",
   "nbconvert_exporter": "python",
   "pygments_lexer": "ipython3",
   "version": "3.11.6"
  }
 },
 "nbformat": 4,
 "nbformat_minor": 2
}
