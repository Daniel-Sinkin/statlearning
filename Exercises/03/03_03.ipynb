{
 "cells": [
  {
   "cell_type": "markdown",
   "metadata": {},
   "source": [
    "#### 3. Suppose we have a data set with five predictors:\n",
    "1. $X_1 = \\operatorname{GPA}$\n",
    "2. $X_2 = \\operatorname{IQ}$\n",
    "3. $X_3 = \\operatorname{Level}$ (which is $1$ for College and $0$ for High School)\n",
    "4. $X_4 = \\text{Interaction between GPA and IQ}$\n",
    "5. $X_5 = \\text{Interaction between GPA and Level}$.\n",
    "\n",
    "The response is starting salary after graduation (in thousands of dollars). Supose we use least squares to fit the model, and get\n",
    "$$\n",
    "\\begin{aligned}\n",
    "\\hat{\\beta}_0 = 20,&&\\hat{\\beta}_1 = 0.07,&&\\hat{\\beta}_2 = 0.01,&& \\hat{\\beta}_3 = 0.01,&&\\hat{\\beta}_4 = -10.\n",
    "\\end{aligned}\n",
    "$$\n",
    "##### (a) Which answer is correct, and why?\n",
    "1. For a fixed value of $\\operatorname{IQ}$ and $\\operatorname{GPA}$, high school graduates earn more, on average, than college graduates.\n",
    "2. For a fixed value of $\\operatorname{IQ}$ and $\\operatorname{GPA}$, college graduates earn more, on average, than high school graduates.\n",
    "3. For a fixed value of $\\operatorname{IQ}$ and $\\operatorname{GPA}$, high school graduates earn more, on average, than college graduates provided that the $\\operatorname{GPA}$ is high enough.\n",
    "4. For a fixed value of $\\operatorname{IQ}$ and $\\operatorname{GPA}$, college graduates earn more, on average, than high school graduates provided that the $\\operatorname{GPA}$ is high enough.\n",
    "##### (b) Predict the salary of a college graduate with $\\operatorname{IQ}$ of $110$ and a $\\operatorname{GPA}$ of $4.0$.\n",
    "##### (c) True or false: Since the coefficient for the $\\operatorname{GPA}/\\operatorname{IQ}$ interaction term is very small, there is very little evidence of an interaction effect. Justify your answer."
   ]
  },
  {
   "cell_type": "markdown",
   "metadata": {},
   "source": [
    "#### (a)\n",
    "The second choice is correct, despite the interaction between GPA and Level being negative this just means that any addition GPA point increases the salary of a college graduate by 10, unlike 20 for a high schooler, but the base line for a person with a college degree is higher.\n",
    "\n",
    "So assuming that we have 1.0 <= GPA <= 4.0 the college graduate will win out (highest relative advantage for high schooler is with GPA = 4.0).\n",
    "\n",
    "If we don't cap GPA by 4.0 above then the High schooler will eventually win out as the growth of GPA is faster for him."
   ]
  },
  {
   "cell_type": "markdown",
   "metadata": {},
   "source": [
    "#### (b)\n",
    "\n",
    "We have $(X_1, X_2, X_3) = (4.0, 110, 1)$ given by the problem and\n",
    "$$\n",
    "\\begin{aligned}\n",
    "X_4 = X_1 \\cdot X_2 = 440.0,&&X_5 = X_1 \\cdot X_3 = 4.0.\n",
    "\\end{aligned}\n",
    "$$\n",
    "To compute the response we then just compute the dot product between\n",
    "$$\n",
    "\\begin{aligned}\n",
    "\\underline{X} = (X_1, \\dots, X_5),&&\\text{and}&&\\underline{\\hat{\\beta}} = (\\hat{\\beta}_0, \\hat{\\beta}_1, \\hat{\\beta}_2, \\hat{\\beta}_3, \\hat{\\beta}_4)\n",
    "\\end{aligned}\n",
    "$$"
   ]
  },
  {
   "cell_type": "code",
   "execution_count": 1,
   "metadata": {},
   "outputs": [
    {
     "name": "stdout",
     "output_type": "stream",
     "text": [
      "The predicted salary is $52110.00.\n"
     ]
    }
   ],
   "source": [
    "import numpy as np\n",
    "\n",
    "X = np.array([4.0, 110, 1, 440, 4.0])\n",
    "beta = np.array([20, 0.07, 0.01, 0.01, -10.0])\n",
    "\n",
    "response = np.dot(X, beta)\n",
    "print(f\"The predicted salary is ${response * 1000:.2f}.\")"
   ]
  },
  {
   "cell_type": "markdown",
   "metadata": {},
   "source": [
    "#### (c)\n",
    "\n",
    "If we have enough samples then we can make a statement about the probability of having a real interaction effect, as this is not given I can't determine this."
   ]
  }
 ],
 "metadata": {
  "kernelspec": {
   "display_name": ".venv",
   "language": "python",
   "name": "python3"
  },
  "language_info": {
   "codemirror_mode": {
    "name": "ipython",
    "version": 3
   },
   "file_extension": ".py",
   "mimetype": "text/x-python",
   "name": "python",
   "nbconvert_exporter": "python",
   "pygments_lexer": "ipython3",
   "version": "3.11.6"
  }
 },
 "nbformat": 4,
 "nbformat_minor": 2
}
