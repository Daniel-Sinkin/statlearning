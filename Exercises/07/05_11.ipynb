{
 "cells": [
  {
   "cell_type": "markdown",
   "metadata": {},
   "source": [
    "# Question 11\n",
    "In `Section 7.7`, it was mentioned that GAMs are generally fit using a *backfitting* approach. The idea behind backfitting is actually quite simple. We will now explore backfitting in the context of multiple linear regression.\n",
    "\n",
    "Suppose that we would like to perform multiple linear regression, but we do not have software to do so. Instead, we only have software to perform simple linear regression. Therefore, we take the following iterative approach: we repeatedly hold all but one coefficient estimate fixed at its current value, and update only that coefficient estimate using a simple linear regression. The process is continued until *convergence* — that is, until the coefficient estimates stop changing.\n",
    "\n",
    "We now try this out on a toy example \n",
    "\n",
    "1. Generate a response $Y$ and two predictors $X_1$ and $X_2$, with $n = 100$.\n",
    "2. Write a function `simple_reg()` that takes two arguments `outcome` and `feature`, fits a simple linear regression model with this outcome and feature, and returns the estimated intercept and slope.\n",
    "3. Initialize `beta1` to take on a value of your choice. It does not matter what value you choose.\n",
    "4. Keeping `beta1` fixed, use your function `simple_reg()` to fit the model:\n",
    "    * $Y − \\texttt{beta1} \\cdot X 1 = \\beta_0 + \\beta_2 X_2 + \\varepsilon.$\n",
    "    * Store the resulting values as `beta0` and `beta2`.\n",
    "5. Keeping `beta2` fixed, fit the model\n",
    "    * $Y − \\texttt{beta2} \\cdot X 2 = \\beta_0 + \\beta_1 X_1 + \\varepsilon.$\n",
    "    * Store the result as `beta0` and `beta1` (overwriting their previous values).\n",
    "6. Write a for loop to repeat (c) and (d) 1000 times. Report the estimates of `beta0`, `beta1`, and `beta2` at each iteration of the for loop. Create a plot in which each of these values is displayed, with `beta0`, `beta1`, and `beta2`.\n",
    "7. Compare your answer in (e) to the results of simply performing multiple linear regression to predict $Y$ using $X_1$ and $X_2$. Use `axline()` method to overlay those multiple linear regression coefficient estimates on the plot obtained in (e).\n",
    "8. On this data set, how many backfitting iterations were required in order to obtain a \"good\" approximation to the multiple regression coefficient estimates?"
   ]
  },
  {
   "cell_type": "markdown",
   "metadata": {},
   "source": []
  }
 ],
 "metadata": {
  "kernelspec": {
   "display_name": ".venv",
   "language": "python",
   "name": "python3"
  },
  "language_info": {
   "codemirror_mode": {
    "name": "ipython",
    "version": 3
   },
   "file_extension": ".py",
   "mimetype": "text/x-python",
   "name": "python",
   "nbconvert_exporter": "python",
   "pygments_lexer": "ipython3",
   "version": "3.11.6"
  }
 },
 "nbformat": 4,
 "nbformat_minor": 2
}
