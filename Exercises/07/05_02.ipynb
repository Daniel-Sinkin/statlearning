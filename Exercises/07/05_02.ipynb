{
 "cells": [
  {
   "cell_type": "markdown",
   "metadata": {},
   "source": [
    "# Question 2\n",
    "Suppose that a curve $\\hat{g}$ is computed to smoothly fit a set of $n$ points using the following formula:\n",
    "$$\n",
    "\\hat{g} = \\arg \\min_{g} \\left( \\sum_{i=1}^{n} (y_i - g(x_i))^2 + \\lambda \\int [g^{(m)}(x)]^2 dx \\right),\n",
    "$$\n",
    "where $g^{(m)}$ represents the $m$th derivative of $g$ (and $g^{(0)} = g$). Provide example sketches of $\\hat{g}$ in each of the following scenarios.\n",
    "- (a) $\\lambda = \\infty, m = 0$.\n",
    "- (b) $\\lambda = \\infty, m = 1$.\n",
    "- (c) $\\lambda = \\infty, m = 2$.\n",
    "- (d) $\\lambda = \\infty, m = 3$.\n",
    "- (e) $\\lambda = 0, m = 3$."
   ]
  },
  {
   "cell_type": "markdown",
   "metadata": {},
   "source": []
  }
 ],
 "metadata": {
  "kernelspec": {
   "display_name": ".venv",
   "language": "python",
   "name": "python3"
  },
  "language_info": {
   "codemirror_mode": {
    "name": "ipython",
    "version": 3
   },
   "file_extension": ".py",
   "mimetype": "text/x-python",
   "name": "python",
   "nbconvert_exporter": "python",
   "pygments_lexer": "ipython3",
   "version": "3.11.6"
  }
 },
 "nbformat": 4,
 "nbformat_minor": 2
}
