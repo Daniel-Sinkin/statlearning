{
 "cells": [
  {
   "cell_type": "markdown",
   "metadata": {},
   "source": [
    "## Question 5\n",
    "Consider two curves, $\\hat{g_1}$ and $\\hat{g_2}$, defined by\n",
    "$$\n",
    "\\hat{g_1} = \\arg \\min_{g} \\left( \\sum_{i=1}^{n} (y_i - g(x_i))^2 + \\lambda \\int [g^{(3)}(x)]^2 dx \\right),\n",
    "$$\n",
    "$$\n",
    "\\hat{g_2} = \\arg \\min_{g} \\left( \\sum_{i=1}^{n} (y_i - g(x_i))^2 + \\lambda \\int [g^{(4)}(x)]^2 dx \\right),\n",
    "$$\n",
    "where $g^{(m)}$ represents the $m$th derivative of $g$.\n",
    "1. As $\\lambda \\rightarrow \\infty$, will $\\hat{g_1}$ or $\\hat{g_2}$ have the smaller training RSS?\n",
    "2. As $\\lambda \\rightarrow \\infty$, will $\\hat{g_1}$ or $\\hat{g_2}$ have the smaller test RSS?\n",
    "3. For $\\lambda = 0$, will $\\hat{g_1}$ or $\\hat{g_2}$ have the smaller training and test RSS?"
   ]
  },
  {
   "cell_type": "markdown",
   "metadata": {},
   "source": []
  }
 ],
 "metadata": {
  "kernelspec": {
   "display_name": ".venv",
   "language": "python",
   "name": "python3"
  },
  "language_info": {
   "codemirror_mode": {
    "name": "ipython",
    "version": 3
   },
   "file_extension": ".py",
   "mimetype": "text/x-python",
   "name": "python",
   "nbconvert_exporter": "python",
   "pygments_lexer": "ipython3",
   "version": "3.11.6"
  }
 },
 "nbformat": 4,
 "nbformat_minor": 2
}
