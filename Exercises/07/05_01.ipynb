{
 "cells": [
  {
   "cell_type": "markdown",
   "metadata": {},
   "source": [
    "# Question 1\n",
    "It was mentioned in this chapter that a cubic regression spline with one knot at ξ can be obtained using a basis of the form $x, x^2, x^3, (x − \\xi)_+^3$, where $(x - \\xi)_+^3 = (x - \\xi)^3$ if $x > \\xi$ and equals $0$ otherwise.\n",
    "We will now show that a function of the form\n",
    "$$\n",
    "f(x) = \\beta_0 + \\beta_1 x + \\beta_2 x^2 + \\beta_3 x^3 + \\beta_4 (x - \\xi)_+^3\n",
    "$$\n",
    "is indeed a cubic regression spline, regardless of the values of $\\beta_i, 0 \\leq i \\leq 4$.\n",
    "1. Find a cubic polynomial $f_1(x) = a_1 + b_1x + c_1x^2 + d_1x^3$ such that $f(x) = f_1(x)$ for all $x \\leq \\xi$. Express $a_1, b_1, c_1, d_1$ in terms of $\\beta_0, \\beta_1, \\beta_2, \\beta_3, \\beta_4$.\n",
    "2. Find a cubic polynomial $f_2(x) = a_2 + b_2x + c_2x^2 + d_2x^3$ such that $f(x) = f_2(x)$ for all $x > \\xi$. Express $a_2, b_2, c_2, d_2$ in terms of $\\beta_0, \\beta_1, \\beta_2, \\beta_3, \\beta_4$. We have now established that $f(x)$ is a piecewise polynomial.\n",
    "3. Show that $f_1(\\xi) = f_2(\\xi)$. That is, $f(x)$ is continuous at $\\xi$.\n",
    "4. Show that $f'_1(\\xi) = f'_2(\\xi)$. That is, $f'(x)$ is continuous at $\\xi$.\n",
    "5. Show that $f''_1(\\xi) = f''_2(\\xi)$. That is, $f''(x)$ is continuous at $\\xi$.\n",
    "\n",
    "Therefore, $f(x)$ is indeed a cubic spline.\n",
    "\n",
    "Hint: Parts (d) and (e) of this problem require knowledge of single-variable calculus. As a reminder, given a cubic polynomial\n",
    "$$\n",
    "f_1(x) = a_1 + b_1x + c_1x^2 + d_1x^3,\n",
    "$$\n",
    "\n",
    "the first derivative takes the form\n",
    "$$\n",
    "f'_1(x) = b_1 + 2c_1x + 3d_1x^2.\n",
    "$$"
   ]
  },
  {
   "cell_type": "markdown",
   "metadata": {},
   "source": [
    "## 1\n",
    "If $x \\leq \\xi$ then $(x - \\xi)_+^3 = 0$ and so we get\n",
    "$$\n",
    "\\begin{aligned}\n",
    "f(x) &= \\beta_0 + \\beta_1 x + \\beta_2 x^2 + \\beta_3 x^3 + \\beta_4 (x - \\xi)_+^3 \\\\\n",
    "&= \\beta_0 + \\beta_1 x + \\beta_2 x^2 + \\beta_3 x^3 \\\\\n",
    "&= \\underbrace{\\beta_0}_{=a_1} + \\underbrace{\\beta_1}_{=b_1} x + \\underbrace{\\beta_2}_{=c_1} x^2 + \\underbrace{\\beta_3}_{=d_1} x^3 =: f_1(x).\n",
    "\\end{aligned}\n",
    "$$\n",
    "\n",
    "The derivatives are given by\n",
    "$$\n",
    "\\begin{aligned}\n",
    "f_1'(x)  &= \\beta_1 + 2 \\beta_2 x + 3\\beta_3 x^2 \\\\\n",
    "f_1''(x) &= 2\\beta_2 + 6 \\beta_3x\n",
    "\\end{aligned}\n",
    "$$\n",
    "\n",
    "As such\n",
    "$$\n",
    "\\begin{aligned}\n",
    "f_1'(\\xi)  &= \\beta_1 + 2 \\beta_2 \\xi + 3\\beta_3 \\xi^2 \\\\\n",
    "f_1''(\\xi) &= 2\\beta_2 + 6 \\beta_3\\xi\n",
    "\\end{aligned}\n",
    "$$"
   ]
  },
  {
   "cell_type": "markdown",
   "metadata": {},
   "source": [
    "## 2\n",
    "If $x > \\xi$ then $(x - \\xi)_+^3 = (x - \\xi)^3$ and so we can simply expand\n",
    "$$\n",
    "(x - \\xi)^3 = x^3 - 3x^2 \\xi + 3x \\xi^2 - \\xi^3\n",
    "$$\n",
    "and get\n",
    "$$\n",
    "\\begin{aligned}\n",
    "f(x) &= \\beta_0 + \\beta_1 x + \\beta_2 x^2 + \\beta_3 x^3 + \\beta_4 (x - \\xi)_+^3 \\\\\n",
    "&= \\beta_0 + \\beta_1 x + \\beta_2 x^2 + \\beta_3 x^3 + \\beta_4 (x - \\xi)^3 \\\\\n",
    "&= \\beta_0 + \\beta_1 x + \\beta_2 x^2 + \\beta_3 x^3 + \\beta_4 \\left(x^3 - 3x^2 \\xi + 3x \\xi^2 - \\xi^3\\right) \\\\\n",
    "&= \\underbrace{(\\beta_0 - \\beta_4\\xi^3)}_{=a_2} + \\underbrace{(\\beta_1 + 3\\beta_4\\xi^2)}_{=b_2} x + \\underbrace{(\\beta_2 - 3\\beta_4\\xi)}_{=c_2} x^2 + \\underbrace{(\\beta_3 + \\beta_4)}_{=d_2} x^3 =: f_2(x).\n",
    "\\end{aligned}\n",
    "$$\n",
    "The derivatives are given by\n",
    "$$\n",
    "\\begin{aligned}\n",
    "f_2'(x)  &= (\\beta_1 +  3\\beta_4 \\xi^2) + 2 (\\beta_2 - 3\\beta_4\\xi)x + 3 (\\beta_3 + \\beta_4)x^2 \\\\\n",
    "f_2''(x) &= 2 (\\beta_2 - 3\\beta_4 \\xi) + 6 (\\beta_3 + \\beta_4)\n",
    "\\end{aligned}\n",
    "$$\n",
    "As such\n",
    "$$\n",
    "\\begin{aligned}\n",
    "f_2'(\\xi)  &= (\\beta_1 +  3\\beta_4 \\xi^2) + 2 (\\beta_2 - 3\\beta_4\\xi)\\xi + 3 (\\beta_3 + \\beta_4)\\xi^2 \\\\\n",
    "           &= (\\beta_1 + 2\\beta_2 + 3 \\beta_3) + \\underbrace{(3\\beta_4 - 6\\beta_4 + 3 \\beta_4)}_{= 0}\\xi^2 \\\\\n",
    "f_2''(\\xi) &= 2 (\\beta_2 - 3\\beta_4 \\xi) + 6 (\\beta_3 + \\beta_4) \\\\\n",
    "           &= (2 \\beta_2 + 6 \\beta_3) + \\underbrace{(-6\\beta_4 + 6\\beta_4)}_{= 0} \\xi\n",
    "\\end{aligned}\n",
    "$$"
   ]
  },
  {
   "cell_type": "markdown",
   "metadata": {},
   "source": [
    "## 3\n",
    "$$\n",
    "\\begin{aligned}\n",
    "f_2(\\xi) &= (\\beta_0 - \\beta_4 \\xi^3) + (\\beta_1 + 3 \\beta_4 \\xi^2) \\xi + (\\beta_2 - 3\\beta_4 \\xi) \\xi^2 + (\\beta_3 + \\beta_4) \\xi^3 \\\\\n",
    "&= (\\beta_0 + \\beta_1 \\xi + \\beta_2 \\xi^2 + \\beta_3 \\xi^3) + \\underbrace{( -\\beta_4 + 3 \\beta_4 - 3\\beta_4 + \\beta_4)}_{= 0} \\xi^3 \\\\\n",
    "&= f_1(\\xi).\n",
    "\\end{aligned}\n",
    "$$"
   ]
  },
  {
   "cell_type": "markdown",
   "metadata": {},
   "source": [
    "## 4\n",
    "Follows immediately from the computations in #1 and #2."
   ]
  },
  {
   "cell_type": "markdown",
   "metadata": {},
   "source": [
    "## 5\n",
    "Follows immediately from the computations in #1 and #2."
   ]
  }
 ],
 "metadata": {
  "kernelspec": {
   "display_name": ".venv",
   "language": "python",
   "name": "python3"
  },
  "language_info": {
   "codemirror_mode": {
    "name": "ipython",
    "version": 3
   },
   "file_extension": ".py",
   "mimetype": "text/x-python",
   "name": "python",
   "nbconvert_exporter": "python",
   "pygments_lexer": "ipython3",
   "version": "3.11.6"
  }
 },
 "nbformat": 4,
 "nbformat_minor": 2
}
