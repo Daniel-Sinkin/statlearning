{
 "cells": [
  {
   "cell_type": "markdown",
   "metadata": {},
   "source": [
    "# Question 3\n",
    "Suppose we fit a curve with basis functions $b_1(X) = X$, $b_2(X) = (X - 1)^2 I(X \\geq 1)$. (Note that $I(X \\geq 1)$ equals 1 for $X \\geq 1$ and 0 otherwise.) We fit the linear regression model\n",
    "$$\n",
    "Y = \\beta_0 + \\beta_1 b_1(X) + \\beta_2 b_2(X) + \\epsilon,\n",
    "$$\n",
    "and obtain coefficient estimates $\\hat{\\beta_0} = 1, \\hat{\\beta_1} = 1.5, \\hat{\\beta_2} = -2$. Sketch the estimated curve between $X = -2$ and $X = 2$. Note the intercepts, slopes, and other relevant information."
   ]
  }
 ],
 "metadata": {
  "kernelspec": {
   "display_name": ".venv",
   "language": "python",
   "name": "python3"
  },
  "language_info": {
   "codemirror_mode": {
    "name": "ipython",
    "version": 3
   },
   "file_extension": ".py",
   "mimetype": "text/x-python",
   "name": "python",
   "nbconvert_exporter": "python",
   "pygments_lexer": "ipython3",
   "version": "3.11.6"
  }
 },
 "nbformat": 4,
 "nbformat_minor": 2
}
