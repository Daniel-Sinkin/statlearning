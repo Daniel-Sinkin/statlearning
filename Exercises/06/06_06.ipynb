{
 "cells": [
  {
   "cell_type": "markdown",
   "metadata": {},
   "source": [
    "# Question 6\n",
    "We will now explore `(6.12)` and `(6.13)` further.\n",
    "1. Consider `(6.12)` with $p = 1$. For some choice of $y_1$ and $\\lambda > 0$, plot `(6.12)` as a function of $\\beta_1$. Your plot should confirm that `(6.12)` is solved by `(6.14)`.\n",
    "1. Consider `(6.13)` with $p = 1$. For some choice of $y_1$ and $\\lambda > 0$, plot `(6.13)` as a function of $\\beta_1$. Your plot should confirm that `(6.13)` is solved by `(6.15)`."
   ]
  },
  {
   "cell_type": "markdown",
   "metadata": {},
   "source": []
  }
 ],
 "metadata": {
  "kernelspec": {
   "display_name": ".venv",
   "language": "python",
   "name": "python3"
  },
  "language_info": {
   "codemirror_mode": {
    "name": "ipython",
    "version": 3
   },
   "file_extension": ".py",
   "mimetype": "text/x-python",
   "name": "python",
   "nbconvert_exporter": "python",
   "pygments_lexer": "ipython3",
   "version": "3.11.6"
  }
 },
 "nbformat": 4,
 "nbformat_minor": 2
}
