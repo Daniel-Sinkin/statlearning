{
 "cells": [
  {
   "cell_type": "markdown",
   "metadata": {},
   "source": [
    "# Question 3\n",
    "Suppose we estimate the regression coefficients in a linear regression model by minimizing\n",
    "$$\n",
    "\\sum_{i=1}^{n} \\left( y_i - \\beta_0 - \\sum_{j=1}^{p} \\beta_j x_{ij} \\right)^2 \\quad \\text{subject to} \\quad \\sum_{j=1}^{p} |\\beta_j| \\leq s\n",
    "$$\n",
    "for a particular value of $s$. For parts (1) through (5), indicate which subpoint is correct. Justify your answer.\n",
    "1. As we increase $s$ from $0$, the training RSS will:\n",
    "    1. Increase initially, and then eventually start decreasing in an inverted U shape.\n",
    "    2. Decrease initially, and then eventually start increasing in a U shape.\n",
    "    3. Steadily increase.\n",
    "    4. Steadily decrease.\n",
    "    5. Remain constant.\n",
    "2. Repeat (1) for test RSS.\n",
    "3. Repeat (1) for variance.\n",
    "4. Repeat (1) for (squared) bias.\n",
    "5. Repeat (1) for the irreducible error."
   ]
  },
  {
   "cell_type": "markdown",
   "metadata": {},
   "source": []
  }
 ],
 "metadata": {
  "kernelspec": {
   "display_name": ".venv",
   "language": "python",
   "name": "python3"
  },
  "language_info": {
   "codemirror_mode": {
    "name": "ipython",
    "version": 3
   },
   "file_extension": ".py",
   "mimetype": "text/x-python",
   "name": "python",
   "nbconvert_exporter": "python",
   "pygments_lexer": "ipython3",
   "version": "3.11.6"
  }
 },
 "nbformat": 4,
 "nbformat_minor": 2
}
