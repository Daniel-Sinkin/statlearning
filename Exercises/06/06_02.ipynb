{
 "cells": [
  {
   "cell_type": "markdown",
   "metadata": {},
   "source": [
    "# Question 2\n",
    "For parts (1) through (3), indicate which of 1.1 through 1.4 is correct.\n",
    "Justify your answer.\n",
    "1. The lasso, relative to least squares, is:\n",
    "    1. More flexible and hence will give improved prediction accuracy when its increase in bias is less than its decrease in variance.\n",
    "    2. More flexible and hence will give improved prediction accuracy when its increase in variance is less than its decrease in bias.\n",
    "    3. Less flexible and hence will give improved prediction accuracy when its increase in bias is less than its decrease in variance.\n",
    "    4. Less flexible and hence will give improved prediction accuracy when its increase in variance is less than its decrease in bias.\n",
    "2. Repeat (1) for ridge regression relative to least squares.\n",
    "3. Repeat (1) for non-linear methods relative to least squares."
   ]
  }
 ],
 "metadata": {
  "kernelspec": {
   "display_name": ".venv",
   "language": "python",
   "name": "python3"
  },
  "language_info": {
   "codemirror_mode": {
    "name": "ipython",
    "version": 3
   },
   "file_extension": ".py",
   "mimetype": "text/x-python",
   "name": "python",
   "nbconvert_exporter": "python",
   "pygments_lexer": "ipython3",
   "version": "3.11.6"
  }
 },
 "nbformat": 4,
 "nbformat_minor": 2
}
