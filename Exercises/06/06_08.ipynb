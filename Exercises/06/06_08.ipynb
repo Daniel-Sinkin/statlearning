{
 "cells": [
  {
   "cell_type": "markdown",
   "metadata": {},
   "source": [
    "# Question 8\n",
    "In this exercise, we will generate simulated data, and will then use this data to perform forward and backward stepwise selection.\n",
    "1. Create a random number generator and use its `normal()` method to generate a predictor $X$ of length $n = 100$, as well as a noise vector $\\varepsilon$ of length $n = 100$.\n",
    "2. Generate a response vector Y of length n = 100 according to the model $Y = \\beta_0 + \\beta_1 X + \\beta_2 X^2 + \\beta_3 X^3 + \\varepsilon$, where $\\beta_0, \\beta_1, \\beta_2$ and $\\beta_3$ are constants of your choice.\n",
    "3. Use forward stepwise selection in order to select a model containing the predictors $X, X^2, \\dots, X^{10}$. What is the model obtained according to $C_p$? Report the coefficients of the model obtained.\n",
    "4. Repeat (c), using backwards stepwise selection. How does your answer compare to the results in (c)?\n",
    "5. Now fit a lasso model to the simulated data, again using $X, X^2, \\dots, X^{10}$ as predictors. Use cross-validation to select the optimal value of $\\lambda$. Create plots of the cross-validation error as a function of $\\lambda$. Report the resulting coefficient estimates, and discuss the results obtained.\n",
    "6. Now generate a response vector Y according to the model $Y = \\beta_0 + \\beta_7 X^7 + \\varepsilon$,\n",
    "and perform forward stepwise selection and the lasso. Discuss the results obtained."
   ]
  },
  {
   "cell_type": "markdown",
   "metadata": {},
   "source": []
  }
 ],
 "metadata": {
  "kernelspec": {
   "display_name": ".venv",
   "language": "python",
   "name": "python3"
  },
  "language_info": {
   "codemirror_mode": {
    "name": "ipython",
    "version": 3
   },
   "file_extension": ".py",
   "mimetype": "text/x-python",
   "name": "python",
   "nbconvert_exporter": "python",
   "pygments_lexer": "ipython3",
   "version": "3.11.6"
  }
 },
 "nbformat": 4,
 "nbformat_minor": 2
}
