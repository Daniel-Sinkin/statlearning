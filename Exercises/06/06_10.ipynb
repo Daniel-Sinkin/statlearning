{
 "cells": [
  {
   "cell_type": "markdown",
   "metadata": {},
   "source": [
    "# Question 10\n",
    "We have seen that as the number of features used in a model increases, the training error will necessarily decrease, but the test error may not. We will now explore this in a simulated data set.\n",
    "1. Generate a data set with $p = 20$ features, $n = 1000$ observations, and an associated quantitative response vector generated according to the model $Y = X \\beta + \\varepsilon$, where $\\beta$ has some elements that are exactly equal to zero.\n",
    "2. Split your data set into a training set containing $100$ observations and a test set containing $900$ observations.\n",
    "3. Perform best subset selection on the training set, and plot the training set $\\operatorname{MSE}$ associated with the best model of each size.\n",
    "4. Plot the test set $\\operatorname{MSE}$ associated with the best model of each size.\n",
    "5. For which model size does the test set $\\operatorname{MSE}$ take on its minimum value? Comment on your results. If it takes on its minimum value for a model containing only an intercept or a model containing all of the features, then play around with the way that you are generating the data in (1) until you come up with a scenario in which the test set $\\operatorname{MSE}$ is minimized for an intermediate model size.\n",
    "6. How does the model at which the test set $\\operatorname{MSE}$ is minimized compare to the true model used to generate the data? Comment on the coefficient values.\n",
    "7. Create a plot displaying $\\sqrt{\\sum_{j = 1}^p (\\beta_j − \\hat{\\beta}_j^r)^2}$ for a range of values of r, where $\\hat{\\beta}_j^r$ is the jth coefficient estimate for the best model containing $r$ coefficients. Comment on what you observe. How does this compare to the test $\\operatorname{MSE}$ plot from (4)?"
   ]
  },
  {
   "cell_type": "markdown",
   "metadata": {},
   "source": []
  }
 ],
 "metadata": {
  "kernelspec": {
   "display_name": ".venv",
   "language": "python",
   "name": "python3"
  },
  "language_info": {
   "codemirror_mode": {
    "name": "ipython",
    "version": 3
   },
   "file_extension": ".py",
   "mimetype": "text/x-python",
   "name": "python",
   "nbconvert_exporter": "python",
   "pygments_lexer": "ipython3",
   "version": "3.11.6"
  }
 },
 "nbformat": 4,
 "nbformat_minor": 2
}
