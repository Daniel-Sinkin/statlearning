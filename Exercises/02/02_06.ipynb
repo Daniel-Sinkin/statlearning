{
 "cells": [
  {
   "cell_type": "markdown",
   "metadata": {},
   "source": [
    "# Question 6\n",
    "Describe the differences between a parametric and a non-parametric statistical learning approach. What are the advantages of a parametric approach to regression or classification (as opposed to a non-parametric approach)? What are its disadvantages?"
   ]
  },
  {
   "cell_type": "markdown",
   "metadata": {},
   "source": [
    "A parametric model has some a-priori assumption about the form of the solution and parameters that we try to determine. The non-parametric approach does not make this kind of assumption.\n",
    "\n",
    "Parametric models are less flexible but easier to determine, also have less variance and so need less samples if we have a well-fitting model assumption.\n",
    "\n",
    "Non-parametric approaches help us when we have no idea about the shape of the solution space.\n",
    "\n",
    "If we choose a wrong model for the parametric approach then we have no chance of getting good results."
   ]
  },
  {
   "cell_type": "markdown",
   "metadata": {},
   "source": []
  }
 ],
 "metadata": {
  "language_info": {
   "name": "python"
  }
 },
 "nbformat": 4,
 "nbformat_minor": 2
}
