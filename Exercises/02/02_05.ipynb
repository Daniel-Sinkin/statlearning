{
 "cells": [
  {
   "cell_type": "markdown",
   "metadata": {},
   "source": [
    "# Question 5\n",
    "What are the advantages and disadvantages of a very flexible (versus a less flexible) approach for regression or classification? Under what circumstances might a more flexible approach be preferred to a less flexible approach? When might a less flexible approach be preferred?"
   ]
  },
  {
   "cell_type": "markdown",
   "metadata": {},
   "source": [
    "* The less structured the data appears, i.e., the less we a-priori know about it the more useful flexible approaches are. In particular when we have intractibly complex problems a flexible approach might be the only chance we have to develop a good model.\n",
    "* If we can't import a-priori understanding then the learning an inflexible model has to done is significantly more computationally difficult and therefore more expensive, or might even be intractable in full generality. If we have to make some simplifying assumptions then we're making it less flexible. \n",
    "* It's harder to reason about very flexible models and they run the risk of overfitting."
   ]
  },
  {
   "cell_type": "markdown",
   "metadata": {},
   "source": []
  }
 ],
 "metadata": {
  "language_info": {
   "name": "python"
  }
 },
 "nbformat": 4,
 "nbformat_minor": 2
}
