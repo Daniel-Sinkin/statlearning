{
 "cells": [
  {
   "cell_type": "markdown",
   "metadata": {},
   "source": [
    "#### 7. The table below provides a training data set containing six observations, three predictors, and one qualitative response variable.\n",
    "| Obs. | X1 | X2 | X3 | Y     |\n",
    "|------|----|----|----|-------|\n",
    "| 1    | 0  | 3  | 0  | Red   |\n",
    "| 2    | 2  | 0  | 0  | Red   |\n",
    "| 3    | 0  | 1  | 3  | Red   |\n",
    "| 4    | 0  | 1  | 2  | Green |\n",
    "| 5    | -1 | 0  | 1  | Green |\n",
    "| 6    | 1  | 1  | 1  | Red   |\n",
    "\n",
    "Suppose we wish to use this data set to make a prediction for $Y$ when $X_1 = X_2 = X_3 = 0$ using $K$-nearest neighbors.\n",
    "1. Compute the Euclidean distance between each observation and the test point, $X_1 = X_2 = X_3 = 0$.\n",
    "2. What is our prediction with $K = 1$? Why?\n",
    "3. What is our prediction with $K = 3$? Why?\n",
    "4. If the Bayes decision boundary in this problem is highly non-linear, then would we expect the *best* value for $K$ to be large or small? Why?"
   ]
  },
  {
   "cell_type": "markdown",
   "metadata": {},
   "source": []
  }
 ],
 "metadata": {
  "language_info": {
   "name": "python"
  }
 },
 "nbformat": 4,
 "nbformat_minor": 2
}
