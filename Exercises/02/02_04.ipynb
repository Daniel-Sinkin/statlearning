{
 "cells": [
  {
   "cell_type": "markdown",
   "metadata": {},
   "source": [
    "#### 4. You will now think of some real-life applications for statistical learning.\n",
    "1. Describe three real-life applications in which classification might be useful. Describe the response, as well as the predictors. Is the goal of each application inference or prediction? Explain your answer.\n",
    "1. Describe three real-life applications in which regression might be useful. Describe the response, as well as the predictors. Is the goal of each application inference or prediction? Explain your answer.\n",
    "1. Describe three real-life applications in which cluster analysis might be useful."
   ]
  },
  {
   "cell_type": "markdown",
   "metadata": {},
   "source": [
    "1.\n",
    "    1. Determining whether somebody is a Democrat or Republican voter. Take in things like salary, what kind of car they drive, level of educations and so on.\n",
    "    2. Determine if a picture is of a dog or of a cat. Take in image information.\n",
    "    3. Do sentiment analysis on a piece of text to classify it as angry, happy or neutral.\n",
    "2.\n",
    "    1. Determining House prices based on differents facts like size, age, postal code and so on.\n",
    "    2. Determine likelihood of a person becoming a criminal based on different characteristics.\n",
    "    3. Predicting Energy consumption based on price, climate and so on.\n",
    "3.\n",
    "    1. Determining different groups / types of consumers from a list of properties.\n",
    "    2. Categorizing a type of growth as Cancer A, Cancer B, Benign tumor and so on.\n",
    "    3. Finding patterns in types of companies, developing novel classifications or companies."
   ]
  },
  {
   "cell_type": "markdown",
   "metadata": {},
   "source": []
  }
 ],
 "metadata": {
  "language_info": {
   "name": "python"
  }
 },
 "nbformat": 4,
 "nbformat_minor": 2
}
